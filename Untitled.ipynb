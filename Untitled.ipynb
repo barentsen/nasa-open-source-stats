{
 "cells": [
  {
   "cell_type": "code",
   "execution_count": 2,
   "metadata": {},
   "outputs": [],
   "source": [
    "import github_api_stats"
   ]
  },
  {
   "cell_type": "code",
   "execution_count": 3,
   "metadata": {},
   "outputs": [
    {
     "data": {
      "text/plain": [
       "{'repository_owner': 'keplergo',\n",
       " 'repository_name': 'lightkurve',\n",
       " 'createdAt': '2018-01-22T00:49:59Z',\n",
       " 'pushedAt': '2019-05-02T17:04:34Z',\n",
       " 'language': 'Python',\n",
       " 'license': 'MIT',\n",
       " 'pseudoLicense': False,\n",
       " 'n_forks': 53,\n",
       " 'n_stars': 95,\n",
       " 'n_pullRequests': 263,\n",
       " 'n_issues': 243,\n",
       " 'n_issues_unique_authors': 46,\n",
       " 'n_pullRequests_unique_authors': 29}"
      ]
     },
     "execution_count": 3,
     "metadata": {},
     "output_type": "execute_result"
    }
   ],
   "source": [
    "github_api_stats.get_repo_stats()"
   ]
  },
  {
   "cell_type": "code",
   "execution_count": null,
   "metadata": {},
   "outputs": [],
   "source": []
  }
 ],
 "metadata": {
  "kernelspec": {
   "display_name": "Python 3",
   "language": "python",
   "name": "python3"
  },
  "language_info": {
   "codemirror_mode": {
    "name": "ipython",
    "version": 3
   },
   "file_extension": ".py",
   "mimetype": "text/x-python",
   "name": "python",
   "nbconvert_exporter": "python",
   "pygments_lexer": "ipython3",
   "version": "3.6.7"
  }
 },
 "nbformat": 4,
 "nbformat_minor": 2
}
