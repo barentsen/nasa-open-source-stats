{
 "cells": [
  {
   "cell_type": "code",
   "execution_count": 23,
   "metadata": {},
   "outputs": [],
   "source": [
    "import githubwebstats, query_ads\n",
    "import pandas as pd\n",
    "import numpy as np\n",
    "from tqdm import tqdm\n",
    "import requests"
   ]
  },
  {
   "cell_type": "code",
   "execution_count": 2,
   "metadata": {},
   "outputs": [],
   "source": [
    "github_urls = githubwebstats._clean_github_urls()"
   ]
  },
  {
   "cell_type": "code",
   "execution_count": null,
   "metadata": {},
   "outputs": [
    {
     "name": "stderr",
     "output_type": "stream",
     "text": [
      "\n",
      "  0%|          | 0/381 [00:00<?, ?it/s]\u001b[A\n",
      "Exception in thread Thread-6:\n",
      "Traceback (most recent call last):\n",
      "  File \"/Users/ch/miniconda3/lib/python3.6/threading.py\", line 916, in _bootstrap_inner\n",
      "    self.run()\n",
      "  File \"/Users/ch/miniconda3/lib/python3.6/site-packages/tqdm/_monitor.py\", line 63, in run\n",
      "    for instance in self.tqdm_cls._instances:\n",
      "  File \"/Users/ch/miniconda3/lib/python3.6/_weakrefset.py\", line 60, in __iter__\n",
      "    for itemref in self.data:\n",
      "RuntimeError: Set changed size during iteration\n",
      "\n",
      "/Users/ch/miniconda3/lib/python3.6/site-packages/ads/search.py:544: UserWarning: Response rows did not match input rows. Setting this query's rows to 2000\n",
      "  \"Setting this query's rows to {}\".format(self.query['rows']))\n",
      " 84%|████████▎ | 319/381 [20:16<03:56,  3.81s/it]"
     ]
    }
   ],
   "source": [
    "results = pd.DataFrame(columns=['github_url', 'repo_name', 'metions', 'n_unq_authors', 'n_unq_first_authors',\n",
    "                                'arxiv_ids', 'citation_count', 'nasa_ack_mentions', 'unq_keywords'])\n",
    "\n",
    "for idx in tqdm(range(len(github_urls))):\n",
    "    github_url = github_urls[idx]\n",
    "    if requests.get('https://{}'.format(github_url)).status_code != 200:\n",
    "        continue\n",
    "    repo_name = github_url.split('/')[-1]\n",
    "    if len(repo_name) < 4:\n",
    "        continue\n",
    "\n",
    "    r = query_ads.query_ads(\"full:' \" + repo_name +\" '\")\n",
    "\n",
    "    results.loc[idx, 'github_url'] = github_url\n",
    "    results.loc[idx, 'repo_name'] = repo_name\n",
    "    results.loc[idx, 'metions'] = len(r)\n",
    "    results.loc[idx, 'n_unq_authors'] = len(np.unique([item for sublist in [r1['author'] for r1 in r if r1['author'] is not None] for item in sublist]))\n",
    "    results.loc[idx, 'n_unq_first_authors'] = len(np.unique([r1['first_author'] for r1 in r if r1['first_author'] is not None]))\n",
    "\n",
    "\n",
    "    results.loc[idx, 'unq_keywords'] = np.unique([item for sublist in [r1['keyword'] for r1 in r if r1['keyword'] is not None] for item in sublist])\n",
    "    results.loc[idx, 'citation_count'] = np.sum([r1['citation_count'] for r1 in r if r1['citation_count'] is not None])\n",
    "    results.loc[idx, 'nasa_ack_mentions'] = np.asarray([np.any(['NASA' in r1['ack'], 'NNX' in r1['ack']])  for r1 in r if r1['ack'] is not None]).sum()\n",
    "    results.loc[idx, 'arxiv_ids'] = [r1['arxiv_id'] for r1 in r if r1['arxiv_id'] is not None]"
   ]
  },
  {
   "cell_type": "code",
   "execution_count": null,
   "metadata": {},
   "outputs": [],
   "source": [
    "results.to_csv('repo_success_metrics.csv')"
   ]
  },
  {
   "cell_type": "code",
   "execution_count": null,
   "metadata": {},
   "outputs": [],
   "source": [
    "results"
   ]
  },
  {
   "cell_type": "code",
   "execution_count": 22,
   "metadata": {},
   "outputs": [
    {
     "data": {
      "text/plain": [
       "'vis'"
      ]
     },
     "execution_count": 22,
     "metadata": {},
     "output_type": "execute_result"
    }
   ],
   "source": []
  },
  {
   "cell_type": "code",
   "execution_count": 14,
   "metadata": {},
   "outputs": [
    {
     "data": {
      "text/plain": [
       "True"
      ]
     },
     "execution_count": 14,
     "metadata": {},
     "output_type": "execute_result"
    }
   ],
   "source": []
  },
  {
   "cell_type": "code",
   "execution_count": null,
   "metadata": {},
   "outputs": [],
   "source": []
  }
 ],
 "metadata": {
  "kernelspec": {
   "display_name": "Python 3",
   "language": "python",
   "name": "python3"
  },
  "language_info": {
   "codemirror_mode": {
    "name": "ipython",
    "version": 3
   },
   "file_extension": ".py",
   "mimetype": "text/x-python",
   "name": "python",
   "nbconvert_exporter": "python",
   "pygments_lexer": "ipython3",
   "version": "3.6.7"
  }
 },
 "nbformat": 4,
 "nbformat_minor": 2
}
