{
 "cells": [
  {
   "cell_type": "code",
   "execution_count": null,
   "metadata": {},
   "outputs": [],
   "source": [
    "import githubwebstats, query_ads\n",
    "import pandas as pd\n",
    "import numpy as np\n",
    "from tqdm import tqdm"
   ]
  },
  {
   "cell_type": "code",
   "execution_count": null,
   "metadata": {},
   "outputs": [],
   "source": [
    "github_urls = githubwebstats._clean_github_urls()"
   ]
  },
  {
   "cell_type": "code",
   "execution_count": null,
   "metadata": {},
   "outputs": [],
   "source": [
    "results = pd.DataFrame(columns=['github_url', 'repo_name', 'metions', 'n_unq_authors', 'n_unq_first_authors',\n",
    "                                'arxiv_ids', 'citation_count', 'unq_keywords'])\n",
    "\n",
    "for idx in tqdm(range(len(github_urls))):\n",
    "    github_url = github_urls[idx]\n",
    "    repo_name = github_url.split('/')[-1]\n",
    "    if len(repo_name) < 3:\n",
    "        continue\n",
    "\n",
    "    r = query_ads.query_ads(\"full:' \" + repo_name +\" '\")\n",
    "\n",
    "    results.loc[idx, 'github_url'] = github_url\n",
    "    results.loc[idx, 'repo_name'] = repo_name\n",
    "    results.loc[idx, 'metions'] = len(r)\n",
    "    results.loc[idx, 'n_unq_authors'] = len(np.unique([item for sublist in [r1['author'] for r1 in r if r1['author'] is not None] for item in sublist]))\n",
    "    results.loc[idx, 'n_unq_first_authors'] = len(np.unique([r1['first_author'] for r1 in r if r1['first_author'] is not None]))\n",
    "\n",
    "\n",
    "    results.loc[idx, 'unq_keywords'] = np.unique([item for sublist in [r1['keyword'] for r1 in r if r1['keyword'] is not None] for item in sublist])\n",
    "    results.loc[idx, 'citation_count'] = np.sum([r1['citation_count'] for r1 in r])\n",
    "    results.loc[idx, 'arxiv_ids'] = [r1['arxiv_id'] for r1 in r if r1['arxiv_id'] is not None]"
   ]
  },
  {
   "cell_type": "code",
   "execution_count": null,
   "metadata": {},
   "outputs": [],
   "source": [
    "results.to_csv('repo_success_metrics.csv')"
   ]
  },
  {
   "cell_type": "code",
   "execution_count": null,
   "metadata": {},
   "outputs": [],
   "source": [
    "results"
   ]
  },
  {
   "cell_type": "code",
   "execution_count": null,
   "metadata": {},
   "outputs": [],
   "source": []
  },
  {
   "cell_type": "code",
   "execution_count": null,
   "metadata": {},
   "outputs": [],
   "source": []
  }
 ],
 "metadata": {
  "kernelspec": {
   "display_name": "Python 3",
   "language": "python",
   "name": "python3"
  },
  "language_info": {
   "codemirror_mode": {
    "name": "ipython",
    "version": 3
   },
   "file_extension": ".py",
   "mimetype": "text/x-python",
   "name": "python",
   "nbconvert_exporter": "python",
   "pygments_lexer": "ipython3",
   "version": "3.6.7"
  }
 },
 "nbformat": 4,
 "nbformat_minor": 2
}
