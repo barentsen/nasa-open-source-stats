{
 "cells": [
  {
   "cell_type": "code",
   "execution_count": 1,
   "metadata": {},
   "outputs": [],
   "source": [
    "import github2stats"
   ]
  },
  {
   "cell_type": "code",
   "execution_count": 2,
   "metadata": {},
   "outputs": [
    {
     "name": "stderr",
     "output_type": "stream",
     "text": [
      "  1%|          | 3/298 [00:36<59:13, 12.04s/it]"
     ]
    }
   ],
   "source": [
    "results = github2stats.github2stats()"
   ]
  },
  {
   "cell_type": "code",
   "execution_count": 4,
   "metadata": {},
   "outputs": [
    {
     "data": {
      "text/html": [
       "<div>\n",
       "<style scoped>\n",
       "    .dataframe tbody tr th:only-of-type {\n",
       "        vertical-align: middle;\n",
       "    }\n",
       "\n",
       "    .dataframe tbody tr th {\n",
       "        vertical-align: top;\n",
       "    }\n",
       "\n",
       "    .dataframe thead th {\n",
       "        text-align: right;\n",
       "    }\n",
       "</style>\n",
       "<table border=\"1\" class=\"dataframe\">\n",
       "  <thead>\n",
       "    <tr style=\"text-align: right;\">\n",
       "      <th></th>\n",
       "      <th>github_url</th>\n",
       "      <th>exists</th>\n",
       "      <th>readme</th>\n",
       "      <th>readme_length</th>\n",
       "      <th>installation</th>\n",
       "      <th>CI</th>\n",
       "      <th>docs</th>\n",
       "      <th>fancy_docs</th>\n",
       "      <th>examples</th>\n",
       "      <th>requirements</th>\n",
       "      <th>setup</th>\n",
       "    </tr>\n",
       "  </thead>\n",
       "  <tbody>\n",
       "    <tr>\n",
       "      <th>0</th>\n",
       "      <td>github.com/aaronparsons/aipy</td>\n",
       "      <td>True</td>\n",
       "      <td>True</td>\n",
       "      <td>2371</td>\n",
       "      <td>True</td>\n",
       "      <td>True</td>\n",
       "      <td>True</td>\n",
       "      <td>False</td>\n",
       "      <td>False</td>\n",
       "      <td>True</td>\n",
       "      <td>False</td>\n",
       "    </tr>\n",
       "    <tr>\n",
       "      <th>1</th>\n",
       "      <td>github.com/aburrell/aacgmv2</td>\n",
       "      <td>True</td>\n",
       "      <td>True</td>\n",
       "      <td>5176</td>\n",
       "      <td>True</td>\n",
       "      <td>True</td>\n",
       "      <td>True</td>\n",
       "      <td>True</td>\n",
       "      <td>False</td>\n",
       "      <td>True</td>\n",
       "      <td>False</td>\n",
       "    </tr>\n",
       "    <tr>\n",
       "      <th>2</th>\n",
       "      <td>github.com/aburrell/apexpy</td>\n",
       "      <td>True</td>\n",
       "      <td>True</td>\n",
       "      <td>5880</td>\n",
       "      <td>True</td>\n",
       "      <td>True</td>\n",
       "      <td>True</td>\n",
       "      <td>True</td>\n",
       "      <td>True</td>\n",
       "      <td>True</td>\n",
       "      <td>False</td>\n",
       "    </tr>\n",
       "    <tr>\n",
       "      <th>3</th>\n",
       "      <td>github.com/aburrell/ocbpy</td>\n",
       "      <td>True</td>\n",
       "      <td>True</td>\n",
       "      <td>6462</td>\n",
       "      <td>True</td>\n",
       "      <td>True</td>\n",
       "      <td>True</td>\n",
       "      <td>True</td>\n",
       "      <td>False</td>\n",
       "      <td>True</td>\n",
       "      <td>False</td>\n",
       "    </tr>\n",
       "  </tbody>\n",
       "</table>\n",
       "</div>"
      ],
      "text/plain": [
       "                     github_url  exists  readme  readme_length  installation  \\\n",
       "0  github.com/aaronparsons/aipy    True    True           2371          True   \n",
       "1   github.com/aburrell/aacgmv2    True    True           5176          True   \n",
       "2    github.com/aburrell/apexpy    True    True           5880          True   \n",
       "3     github.com/aburrell/ocbpy    True    True           6462          True   \n",
       "\n",
       "     CI  docs  fancy_docs  examples  requirements  setup  \n",
       "0  True  True       False     False          True  False  \n",
       "1  True  True        True     False          True  False  \n",
       "2  True  True        True      True          True  False  \n",
       "3  True  True        True     False          True  False  "
      ]
     },
     "execution_count": 4,
     "metadata": {},
     "output_type": "execute_result"
    }
   ],
   "source": []
  },
  {
   "cell_type": "code",
   "execution_count": null,
   "metadata": {},
   "outputs": [],
   "source": []
  }
 ],
 "metadata": {
  "kernelspec": {
   "display_name": "Python 3",
   "language": "python",
   "name": "python3"
  },
  "language_info": {
   "codemirror_mode": {
    "name": "ipython",
    "version": 3
   },
   "file_extension": ".py",
   "mimetype": "text/x-python",
   "name": "python",
   "nbconvert_exporter": "python",
   "pygments_lexer": "ipython3",
   "version": "3.6.7"
  }
 },
 "nbformat": 4,
 "nbformat_minor": 2
}
